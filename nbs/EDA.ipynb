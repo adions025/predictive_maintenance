{
 "cells": [
  {
   "cell_type": "markdown",
   "id": "parental-strap",
   "metadata": {},
   "source": [
    "# Predicción de anomalías, en el sector industrial"
   ]
  },
  {
   "cell_type": "markdown",
   "id": "challenging-stockholm",
   "metadata": {},
   "source": [
    " __Nombre:__ Adonis González"
   ]
  },
  {
   "cell_type": "markdown",
   "id": "accurate-alcohol",
   "metadata": {},
   "source": [
    "## 1. Inicialización y carga de utilidades"
   ]
  },
  {
   "cell_type": "markdown",
   "id": "terminal-conversation",
   "metadata": {},
   "source": [
    "El código siguiente carga algunos paquetes necesarios para la práctica y lee los datos que utilizaremos para entrenar los modelos. Definimos también algunas utilidades para preprocesar los datos y generar los datasets."
   ]
  },
  {
   "cell_type": "code",
   "execution_count": 1,
   "id": "other-brook",
   "metadata": {},
   "outputs": [],
   "source": [
    "import sys  \n",
    "sys.path.insert(0, '../src/')\n",
    "\n",
    "from imports import *\n",
    "from plot_functions import * \n",
    "from model_functions import *\n",
    "from data_functions import *\n",
    "from metric_fuctions import *"
   ]
  },
  {
   "cell_type": "markdown",
   "id": "knowing-balance",
   "metadata": {},
   "source": [
    "A continuación se muestra las versión de tensorflow y keras y el dispositivo GPU utilizado para enfrentar el problema de la de detección de anomalías. "
   ]
  },
  {
   "cell_type": "code",
   "execution_count": 2,
   "id": "social-tenant",
   "metadata": {},
   "outputs": [
    {
     "name": "stdout",
     "output_type": "stream",
     "text": [
      "TF version   :  2.4.1\n",
      "Keras version   :  2.4.3\n",
      "GPU available:  [PhysicalDevice(name='/physical_device:GPU:0', device_type='GPU')]\n",
      "['device: 0, name: GeForce RTX 2080 SUPER, pci bus id: 0000:2d:00.0, compute capability: 7.5']\n"
     ]
    }
   ],
   "source": [
    "print(\"TF version   : \", tf.__version__)\n",
    "print(\"Keras version   : \", keras.__version__)\n",
    "\n",
    "print(\"GPU available: \", tf.config.list_physical_devices('GPU'))\n",
    "local_prot = device_lib.list_local_devices()\n",
    "print([x.physical_device_desc for x in local_prot if x.device_type == 'GPU'])"
   ]
  },
  {
   "cell_type": "markdown",
   "id": "blessed-chassis",
   "metadata": {},
   "source": [
    "Paths sources:"
   ]
  },
  {
   "cell_type": "code",
   "execution_count": 3,
   "id": "driven-relief",
   "metadata": {},
   "outputs": [],
   "source": [
    "# paths \n",
    "ROOT_DIR = os.path.abspath(\"../\")\n",
    "data_dir = os.path.join(ROOT_DIR, \"data\")\n",
    "data_1 = os.path.join(data_dir, \"1\")\n",
    "train = os.path.join(data_1, \"PM_train.csv\")\n",
    "test = os.path.join(data_1, \"PM_test.csv\")\n",
    "gtruth = os.path.join(data_1, \"PM_truth.csv\")"
   ]
  },
  {
   "cell_type": "markdown",
   "id": "least-import",
   "metadata": {},
   "source": [
    "Creamos los headers names de las columnas del conjunto de datos."
   ]
  },
  {
   "cell_type": "code",
   "execution_count": 4,
   "id": "lightweight-denial",
   "metadata": {},
   "outputs": [
    {
     "name": "stdout",
     "output_type": "stream",
     "text": [
      "['id', 'cycle_time', 'op_sett_1', 'op_sett_2', 'op_sett_3', 'measure_1', 'measure_2', 'measure_3', 'measure_4', 'measure_5', 'measure_6', 'measure_7', 'measure_8', 'measure_9', 'measure_10', 'measure_11', 'measure_12', 'measure_13', 'measure_14', 'measure_15', 'measure_16', 'measure_17', 'measure_18', 'measure_19', 'measure_20', 'measure_21']\n"
     ]
    }
   ],
   "source": [
    "sensores = [\"measure_\" + str(i) for i in range(1, 22)]\n",
    "col_names=[\"id\", \"cycle_time\", \"op_sett_1\", \"op_sett_2\", \"op_sett_3\"] + sensores\n",
    "print(col_names)"
   ]
  },
  {
   "cell_type": "markdown",
   "id": "comparable-fiction",
   "metadata": {},
   "source": [
    "## 2. Exploración y preprocesado de los datos"
   ]
  },
  {
   "cell_type": "markdown",
   "id": "associate-trailer",
   "metadata": {},
   "source": [
    "En este apartado exploraremos la base de datos y prepararemos la carga de estos.\n",
    "\n",
    "Las redes neuronales artificiales, como el resto de modelos de aprendizaje automático, requieren que los datos de entrada estén en un formato específico para poder trabajar de forma correcta. Concretamente estos deben estar en formato numérico y se recomienda que estén estandarizados. Además, en caso de haber más de dos clases será recomendable también binarizarlas."
   ]
  },
  {
   "cell_type": "markdown",
   "id": "sonic-northeast",
   "metadata": {},
   "source": [
    "Leemos los dataset de training, test y groundtruth como pandas Dataframe."
   ]
  },
  {
   "cell_type": "code",
   "execution_count": 5,
   "id": "acquired-western",
   "metadata": {},
   "outputs": [],
   "source": [
    "# cargamos datos como dataframes\n",
    "df_train = pd.read_csv(train, sep=\";\", header=None)\n",
    "df_test = pd.read_csv(test, sep=\";\", header=None)\n",
    "df_truth = pd.read_csv(gtruth, sep=\";\", header=None)"
   ]
  },
  {
   "cell_type": "markdown",
   "id": "rapid-remark",
   "metadata": {},
   "source": [
    "Cargamos los headers previamente creados a las columnas del los dos dataframes, train y test."
   ]
  },
  {
   "cell_type": "code",
   "execution_count": 6,
   "id": "junior-parcel",
   "metadata": {},
   "outputs": [],
   "source": [
    "df_train.columns = col_names\n",
    "df_test.columns = col_names"
   ]
  },
  {
   "cell_type": "markdown",
   "id": "manual-bottom",
   "metadata": {},
   "source": [
    "Miramos dimensiones del conjunto de train, test y truth."
   ]
  },
  {
   "cell_type": "code",
   "execution_count": 7,
   "id": "sexual-smart",
   "metadata": {},
   "outputs": [
    {
     "name": "stdout",
     "output_type": "stream",
     "text": [
      " La dimensión del conjunto de entranmiento es (20631, 26)\n",
      " La dimensión del conjunto de test es (13096, 26)\n",
      " La dimensión del conjunto de truth es (100, 1)\n"
     ]
    }
   ],
   "source": [
    "print(f' La dimensión del conjunto de entranmiento es {df_train.shape}')\n",
    "print(f' La dimensión del conjunto de test es {df_test.shape}')\n",
    "print(f' La dimensión del conjunto de truth es {df_truth.shape}')"
   ]
  },
  {
   "cell_type": "markdown",
   "id": "documentary-description",
   "metadata": {},
   "source": [
    "Tenemos el primer contacto con el dataset, observamos algunos valores. Se muestran algunas columnas, filas de los 3 sets."
   ]
  },
  {
   "cell_type": "markdown",
   "id": "amended-speed",
   "metadata": {},
   "source": [
    "__Train__"
   ]
  },
  {
   "cell_type": "code",
   "execution_count": 8,
   "id": "hydraulic-grave",
   "metadata": {},
   "outputs": [
    {
     "data": {
      "text/html": [
       "<div>\n",
       "<style scoped>\n",
       "    .dataframe tbody tr th:only-of-type {\n",
       "        vertical-align: middle;\n",
       "    }\n",
       "\n",
       "    .dataframe tbody tr th {\n",
       "        vertical-align: top;\n",
       "    }\n",
       "\n",
       "    .dataframe thead th {\n",
       "        text-align: right;\n",
       "    }\n",
       "</style>\n",
       "<table border=\"1\" class=\"dataframe\">\n",
       "  <thead>\n",
       "    <tr style=\"text-align: right;\">\n",
       "      <th></th>\n",
       "      <th>id</th>\n",
       "      <th>cycle_time</th>\n",
       "      <th>op_sett_1</th>\n",
       "      <th>op_sett_2</th>\n",
       "      <th>op_sett_3</th>\n",
       "      <th>measure_1</th>\n",
       "      <th>measure_2</th>\n",
       "      <th>measure_3</th>\n",
       "    </tr>\n",
       "  </thead>\n",
       "  <tbody>\n",
       "    <tr>\n",
       "      <th>0</th>\n",
       "      <td>1</td>\n",
       "      <td>1</td>\n",
       "      <td>-0.0007</td>\n",
       "      <td>-0.0004</td>\n",
       "      <td>100.0</td>\n",
       "      <td>518.67</td>\n",
       "      <td>641.82</td>\n",
       "      <td>1589.70</td>\n",
       "    </tr>\n",
       "    <tr>\n",
       "      <th>1</th>\n",
       "      <td>1</td>\n",
       "      <td>2</td>\n",
       "      <td>0.0019</td>\n",
       "      <td>-0.0003</td>\n",
       "      <td>100.0</td>\n",
       "      <td>518.67</td>\n",
       "      <td>642.15</td>\n",
       "      <td>1591.82</td>\n",
       "    </tr>\n",
       "    <tr>\n",
       "      <th>2</th>\n",
       "      <td>1</td>\n",
       "      <td>3</td>\n",
       "      <td>-0.0043</td>\n",
       "      <td>0.0003</td>\n",
       "      <td>100.0</td>\n",
       "      <td>518.67</td>\n",
       "      <td>642.35</td>\n",
       "      <td>1587.99</td>\n",
       "    </tr>\n",
       "    <tr>\n",
       "      <th>3</th>\n",
       "      <td>1</td>\n",
       "      <td>4</td>\n",
       "      <td>0.0007</td>\n",
       "      <td>0.0000</td>\n",
       "      <td>100.0</td>\n",
       "      <td>518.67</td>\n",
       "      <td>642.35</td>\n",
       "      <td>1582.79</td>\n",
       "    </tr>\n",
       "    <tr>\n",
       "      <th>4</th>\n",
       "      <td>1</td>\n",
       "      <td>5</td>\n",
       "      <td>-0.0019</td>\n",
       "      <td>-0.0002</td>\n",
       "      <td>100.0</td>\n",
       "      <td>518.67</td>\n",
       "      <td>642.37</td>\n",
       "      <td>1582.85</td>\n",
       "    </tr>\n",
       "    <tr>\n",
       "      <th>...</th>\n",
       "      <td>...</td>\n",
       "      <td>...</td>\n",
       "      <td>...</td>\n",
       "      <td>...</td>\n",
       "      <td>...</td>\n",
       "      <td>...</td>\n",
       "      <td>...</td>\n",
       "      <td>...</td>\n",
       "    </tr>\n",
       "    <tr>\n",
       "      <th>190</th>\n",
       "      <td>1</td>\n",
       "      <td>191</td>\n",
       "      <td>-0.0000</td>\n",
       "      <td>-0.0004</td>\n",
       "      <td>100.0</td>\n",
       "      <td>518.67</td>\n",
       "      <td>643.34</td>\n",
       "      <td>1602.36</td>\n",
       "    </tr>\n",
       "    <tr>\n",
       "      <th>191</th>\n",
       "      <td>1</td>\n",
       "      <td>192</td>\n",
       "      <td>0.0009</td>\n",
       "      <td>-0.0000</td>\n",
       "      <td>100.0</td>\n",
       "      <td>518.67</td>\n",
       "      <td>643.54</td>\n",
       "      <td>1601.41</td>\n",
       "    </tr>\n",
       "    <tr>\n",
       "      <th>192</th>\n",
       "      <td>2</td>\n",
       "      <td>1</td>\n",
       "      <td>-0.0018</td>\n",
       "      <td>0.0006</td>\n",
       "      <td>100.0</td>\n",
       "      <td>518.67</td>\n",
       "      <td>641.89</td>\n",
       "      <td>1583.84</td>\n",
       "    </tr>\n",
       "    <tr>\n",
       "      <th>193</th>\n",
       "      <td>2</td>\n",
       "      <td>2</td>\n",
       "      <td>0.0043</td>\n",
       "      <td>-0.0003</td>\n",
       "      <td>100.0</td>\n",
       "      <td>518.67</td>\n",
       "      <td>641.82</td>\n",
       "      <td>1587.05</td>\n",
       "    </tr>\n",
       "    <tr>\n",
       "      <th>194</th>\n",
       "      <td>2</td>\n",
       "      <td>3</td>\n",
       "      <td>0.0018</td>\n",
       "      <td>0.0003</td>\n",
       "      <td>100.0</td>\n",
       "      <td>518.67</td>\n",
       "      <td>641.55</td>\n",
       "      <td>1588.32</td>\n",
       "    </tr>\n",
       "  </tbody>\n",
       "</table>\n",
       "<p>195 rows × 8 columns</p>\n",
       "</div>"
      ],
      "text/plain": [
       "     id  cycle_time  op_sett_1  op_sett_2  op_sett_3  measure_1  measure_2  \\\n",
       "0     1           1    -0.0007    -0.0004      100.0     518.67     641.82   \n",
       "1     1           2     0.0019    -0.0003      100.0     518.67     642.15   \n",
       "2     1           3    -0.0043     0.0003      100.0     518.67     642.35   \n",
       "3     1           4     0.0007     0.0000      100.0     518.67     642.35   \n",
       "4     1           5    -0.0019    -0.0002      100.0     518.67     642.37   \n",
       "..   ..         ...        ...        ...        ...        ...        ...   \n",
       "190   1         191    -0.0000    -0.0004      100.0     518.67     643.34   \n",
       "191   1         192     0.0009    -0.0000      100.0     518.67     643.54   \n",
       "192   2           1    -0.0018     0.0006      100.0     518.67     641.89   \n",
       "193   2           2     0.0043    -0.0003      100.0     518.67     641.82   \n",
       "194   2           3     0.0018     0.0003      100.0     518.67     641.55   \n",
       "\n",
       "     measure_3  \n",
       "0      1589.70  \n",
       "1      1591.82  \n",
       "2      1587.99  \n",
       "3      1582.79  \n",
       "4      1582.85  \n",
       "..         ...  \n",
       "190    1602.36  \n",
       "191    1601.41  \n",
       "192    1583.84  \n",
       "193    1587.05  \n",
       "194    1588.32  \n",
       "\n",
       "[195 rows x 8 columns]"
      ]
     },
     "execution_count": 8,
     "metadata": {},
     "output_type": "execute_result"
    }
   ],
   "source": [
    "df_train.iloc[0:195, 0:8]"
   ]
  },
  {
   "cell_type": "markdown",
   "id": "animal-equipment",
   "metadata": {},
   "source": [
    "__Test__"
   ]
  },
  {
   "cell_type": "code",
   "execution_count": 9,
   "id": "inner-newton",
   "metadata": {},
   "outputs": [
    {
     "data": {
      "text/html": [
       "<div>\n",
       "<style scoped>\n",
       "    .dataframe tbody tr th:only-of-type {\n",
       "        vertical-align: middle;\n",
       "    }\n",
       "\n",
       "    .dataframe tbody tr th {\n",
       "        vertical-align: top;\n",
       "    }\n",
       "\n",
       "    .dataframe thead th {\n",
       "        text-align: right;\n",
       "    }\n",
       "</style>\n",
       "<table border=\"1\" class=\"dataframe\">\n",
       "  <thead>\n",
       "    <tr style=\"text-align: right;\">\n",
       "      <th></th>\n",
       "      <th>id</th>\n",
       "      <th>cycle_time</th>\n",
       "      <th>op_sett_1</th>\n",
       "      <th>op_sett_2</th>\n",
       "      <th>op_sett_3</th>\n",
       "      <th>measure_1</th>\n",
       "      <th>measure_2</th>\n",
       "      <th>measure_3</th>\n",
       "    </tr>\n",
       "  </thead>\n",
       "  <tbody>\n",
       "    <tr>\n",
       "      <th>25</th>\n",
       "      <td>1</td>\n",
       "      <td>26</td>\n",
       "      <td>0.0047</td>\n",
       "      <td>-0.0005</td>\n",
       "      <td>100.0</td>\n",
       "      <td>518.67</td>\n",
       "      <td>642.48</td>\n",
       "      <td>1583.28</td>\n",
       "    </tr>\n",
       "    <tr>\n",
       "      <th>26</th>\n",
       "      <td>1</td>\n",
       "      <td>27</td>\n",
       "      <td>-0.0007</td>\n",
       "      <td>0.0001</td>\n",
       "      <td>100.0</td>\n",
       "      <td>518.67</td>\n",
       "      <td>642.08</td>\n",
       "      <td>1586.65</td>\n",
       "    </tr>\n",
       "    <tr>\n",
       "      <th>27</th>\n",
       "      <td>1</td>\n",
       "      <td>28</td>\n",
       "      <td>0.0022</td>\n",
       "      <td>0.0005</td>\n",
       "      <td>100.0</td>\n",
       "      <td>518.67</td>\n",
       "      <td>641.93</td>\n",
       "      <td>1594.25</td>\n",
       "    </tr>\n",
       "    <tr>\n",
       "      <th>28</th>\n",
       "      <td>1</td>\n",
       "      <td>29</td>\n",
       "      <td>0.0014</td>\n",
       "      <td>0.0001</td>\n",
       "      <td>100.0</td>\n",
       "      <td>518.67</td>\n",
       "      <td>641.95</td>\n",
       "      <td>1587.15</td>\n",
       "    </tr>\n",
       "    <tr>\n",
       "      <th>29</th>\n",
       "      <td>1</td>\n",
       "      <td>30</td>\n",
       "      <td>-0.0025</td>\n",
       "      <td>0.0004</td>\n",
       "      <td>100.0</td>\n",
       "      <td>518.67</td>\n",
       "      <td>642.79</td>\n",
       "      <td>1585.72</td>\n",
       "    </tr>\n",
       "    <tr>\n",
       "      <th>30</th>\n",
       "      <td>1</td>\n",
       "      <td>31</td>\n",
       "      <td>-0.0006</td>\n",
       "      <td>0.0004</td>\n",
       "      <td>100.0</td>\n",
       "      <td>518.67</td>\n",
       "      <td>642.58</td>\n",
       "      <td>1581.22</td>\n",
       "    </tr>\n",
       "    <tr>\n",
       "      <th>31</th>\n",
       "      <td>2</td>\n",
       "      <td>1</td>\n",
       "      <td>-0.0009</td>\n",
       "      <td>0.0004</td>\n",
       "      <td>100.0</td>\n",
       "      <td>518.67</td>\n",
       "      <td>642.66</td>\n",
       "      <td>1589.30</td>\n",
       "    </tr>\n",
       "    <tr>\n",
       "      <th>32</th>\n",
       "      <td>2</td>\n",
       "      <td>2</td>\n",
       "      <td>-0.0011</td>\n",
       "      <td>0.0002</td>\n",
       "      <td>100.0</td>\n",
       "      <td>518.67</td>\n",
       "      <td>642.51</td>\n",
       "      <td>1588.43</td>\n",
       "    </tr>\n",
       "    <tr>\n",
       "      <th>33</th>\n",
       "      <td>2</td>\n",
       "      <td>3</td>\n",
       "      <td>0.0002</td>\n",
       "      <td>0.0003</td>\n",
       "      <td>100.0</td>\n",
       "      <td>518.67</td>\n",
       "      <td>642.58</td>\n",
       "      <td>1595.60</td>\n",
       "    </tr>\n",
       "    <tr>\n",
       "      <th>34</th>\n",
       "      <td>2</td>\n",
       "      <td>4</td>\n",
       "      <td>0.0025</td>\n",
       "      <td>0.0001</td>\n",
       "      <td>100.0</td>\n",
       "      <td>518.67</td>\n",
       "      <td>642.31</td>\n",
       "      <td>1583.43</td>\n",
       "    </tr>\n",
       "    <tr>\n",
       "      <th>35</th>\n",
       "      <td>2</td>\n",
       "      <td>5</td>\n",
       "      <td>0.0004</td>\n",
       "      <td>-0.0004</td>\n",
       "      <td>100.0</td>\n",
       "      <td>518.67</td>\n",
       "      <td>642.77</td>\n",
       "      <td>1585.03</td>\n",
       "    </tr>\n",
       "    <tr>\n",
       "      <th>36</th>\n",
       "      <td>2</td>\n",
       "      <td>6</td>\n",
       "      <td>-0.0008</td>\n",
       "      <td>-0.0003</td>\n",
       "      <td>100.0</td>\n",
       "      <td>518.67</td>\n",
       "      <td>642.50</td>\n",
       "      <td>1579.87</td>\n",
       "    </tr>\n",
       "    <tr>\n",
       "      <th>37</th>\n",
       "      <td>2</td>\n",
       "      <td>7</td>\n",
       "      <td>0.0019</td>\n",
       "      <td>0.0000</td>\n",
       "      <td>100.0</td>\n",
       "      <td>518.67</td>\n",
       "      <td>642.63</td>\n",
       "      <td>1594.28</td>\n",
       "    </tr>\n",
       "    <tr>\n",
       "      <th>38</th>\n",
       "      <td>2</td>\n",
       "      <td>8</td>\n",
       "      <td>0.0015</td>\n",
       "      <td>0.0003</td>\n",
       "      <td>100.0</td>\n",
       "      <td>518.67</td>\n",
       "      <td>642.61</td>\n",
       "      <td>1583.23</td>\n",
       "    </tr>\n",
       "    <tr>\n",
       "      <th>39</th>\n",
       "      <td>2</td>\n",
       "      <td>9</td>\n",
       "      <td>-0.0022</td>\n",
       "      <td>0.0003</td>\n",
       "      <td>100.0</td>\n",
       "      <td>518.67</td>\n",
       "      <td>642.28</td>\n",
       "      <td>1588.74</td>\n",
       "    </tr>\n",
       "  </tbody>\n",
       "</table>\n",
       "</div>"
      ],
      "text/plain": [
       "    id  cycle_time  op_sett_1  op_sett_2  op_sett_3  measure_1  measure_2  \\\n",
       "25   1          26     0.0047    -0.0005      100.0     518.67     642.48   \n",
       "26   1          27    -0.0007     0.0001      100.0     518.67     642.08   \n",
       "27   1          28     0.0022     0.0005      100.0     518.67     641.93   \n",
       "28   1          29     0.0014     0.0001      100.0     518.67     641.95   \n",
       "29   1          30    -0.0025     0.0004      100.0     518.67     642.79   \n",
       "30   1          31    -0.0006     0.0004      100.0     518.67     642.58   \n",
       "31   2           1    -0.0009     0.0004      100.0     518.67     642.66   \n",
       "32   2           2    -0.0011     0.0002      100.0     518.67     642.51   \n",
       "33   2           3     0.0002     0.0003      100.0     518.67     642.58   \n",
       "34   2           4     0.0025     0.0001      100.0     518.67     642.31   \n",
       "35   2           5     0.0004    -0.0004      100.0     518.67     642.77   \n",
       "36   2           6    -0.0008    -0.0003      100.0     518.67     642.50   \n",
       "37   2           7     0.0019     0.0000      100.0     518.67     642.63   \n",
       "38   2           8     0.0015     0.0003      100.0     518.67     642.61   \n",
       "39   2           9    -0.0022     0.0003      100.0     518.67     642.28   \n",
       "\n",
       "    measure_3  \n",
       "25    1583.28  \n",
       "26    1586.65  \n",
       "27    1594.25  \n",
       "28    1587.15  \n",
       "29    1585.72  \n",
       "30    1581.22  \n",
       "31    1589.30  \n",
       "32    1588.43  \n",
       "33    1595.60  \n",
       "34    1583.43  \n",
       "35    1585.03  \n",
       "36    1579.87  \n",
       "37    1594.28  \n",
       "38    1583.23  \n",
       "39    1588.74  "
      ]
     },
     "execution_count": 9,
     "metadata": {},
     "output_type": "execute_result"
    }
   ],
   "source": [
    "df_test.iloc[25:40, 0:8]"
   ]
  },
  {
   "cell_type": "markdown",
   "id": "minute-memory",
   "metadata": {},
   "source": [
    "__Truth__"
   ]
  },
  {
   "cell_type": "code",
   "execution_count": 10,
   "id": "senior-oliver",
   "metadata": {},
   "outputs": [
    {
     "data": {
      "text/html": [
       "<div>\n",
       "<style scoped>\n",
       "    .dataframe tbody tr th:only-of-type {\n",
       "        vertical-align: middle;\n",
       "    }\n",
       "\n",
       "    .dataframe tbody tr th {\n",
       "        vertical-align: top;\n",
       "    }\n",
       "\n",
       "    .dataframe thead th {\n",
       "        text-align: right;\n",
       "    }\n",
       "</style>\n",
       "<table border=\"1\" class=\"dataframe\">\n",
       "  <thead>\n",
       "    <tr style=\"text-align: right;\">\n",
       "      <th></th>\n",
       "      <th>0</th>\n",
       "    </tr>\n",
       "  </thead>\n",
       "  <tbody>\n",
       "    <tr>\n",
       "      <th>0</th>\n",
       "      <td>112</td>\n",
       "    </tr>\n",
       "    <tr>\n",
       "      <th>1</th>\n",
       "      <td>98</td>\n",
       "    </tr>\n",
       "    <tr>\n",
       "      <th>2</th>\n",
       "      <td>69</td>\n",
       "    </tr>\n",
       "    <tr>\n",
       "      <th>3</th>\n",
       "      <td>82</td>\n",
       "    </tr>\n",
       "    <tr>\n",
       "      <th>4</th>\n",
       "      <td>91</td>\n",
       "    </tr>\n",
       "    <tr>\n",
       "      <th>5</th>\n",
       "      <td>93</td>\n",
       "    </tr>\n",
       "    <tr>\n",
       "      <th>6</th>\n",
       "      <td>91</td>\n",
       "    </tr>\n",
       "    <tr>\n",
       "      <th>7</th>\n",
       "      <td>95</td>\n",
       "    </tr>\n",
       "    <tr>\n",
       "      <th>8</th>\n",
       "      <td>111</td>\n",
       "    </tr>\n",
       "    <tr>\n",
       "      <th>9</th>\n",
       "      <td>96</td>\n",
       "    </tr>\n",
       "  </tbody>\n",
       "</table>\n",
       "</div>"
      ],
      "text/plain": [
       "     0\n",
       "0  112\n",
       "1   98\n",
       "2   69\n",
       "3   82\n",
       "4   91\n",
       "5   93\n",
       "6   91\n",
       "7   95\n",
       "8  111\n",
       "9   96"
      ]
     },
     "execution_count": 10,
     "metadata": {},
     "output_type": "execute_result"
    }
   ],
   "source": [
    "df_truth.head(10)"
   ]
  },
  {
   "cell_type": "code",
   "execution_count": 11,
   "id": "spatial-warrior",
   "metadata": {},
   "outputs": [
    {
     "data": {
      "text/plain": [
       "id              int64\n",
       "cycle_time      int64\n",
       "op_sett_1     float64\n",
       "op_sett_2     float64\n",
       "op_sett_3     float64\n",
       "measure_1     float64\n",
       "measure_2     float64\n",
       "measure_3     float64\n",
       "measure_4     float64\n",
       "measure_5     float64\n",
       "measure_6     float64\n",
       "measure_7     float64\n",
       "measure_8     float64\n",
       "measure_9     float64\n",
       "measure_10    float64\n",
       "measure_11    float64\n",
       "measure_12    float64\n",
       "measure_13    float64\n",
       "measure_14    float64\n",
       "measure_15    float64\n",
       "measure_16    float64\n",
       "measure_17      int64\n",
       "measure_18      int64\n",
       "measure_19    float64\n",
       "measure_20    float64\n",
       "measure_21    float64\n",
       "dtype: object"
      ]
     },
     "execution_count": 11,
     "metadata": {},
     "output_type": "execute_result"
    }
   ],
   "source": [
    "df_train.dtypes"
   ]
  },
  {
   "cell_type": "markdown",
   "id": "bibliographic-upper",
   "metadata": {},
   "source": [
    "Miramos si tenemos datos nulos."
   ]
  },
  {
   "cell_type": "code",
   "execution_count": 12,
   "id": "cultural-cleveland",
   "metadata": {},
   "outputs": [],
   "source": [
    "check_df_null(df_train)\n",
    "check_df_null(df_test)"
   ]
  },
  {
   "cell_type": "markdown",
   "id": "affecting-baseball",
   "metadata": {},
   "source": [
    "No tenemos datos nulos en los conjuntos de datos."
   ]
  },
  {
   "cell_type": "markdown",
   "id": "threaded-driver",
   "metadata": {},
   "source": [
    "Mostramos los primeros estadísticos de las variables numéricas:"
   ]
  },
  {
   "cell_type": "code",
   "execution_count": 13,
   "id": "outstanding-receipt",
   "metadata": {},
   "outputs": [
    {
     "data": {
      "text/html": [
       "<div>\n",
       "<style scoped>\n",
       "    .dataframe tbody tr th:only-of-type {\n",
       "        vertical-align: middle;\n",
       "    }\n",
       "\n",
       "    .dataframe tbody tr th {\n",
       "        vertical-align: top;\n",
       "    }\n",
       "\n",
       "    .dataframe thead th {\n",
       "        text-align: right;\n",
       "    }\n",
       "</style>\n",
       "<table border=\"1\" class=\"dataframe\">\n",
       "  <thead>\n",
       "    <tr style=\"text-align: right;\">\n",
       "      <th></th>\n",
       "      <th>id</th>\n",
       "      <th>cycle_time</th>\n",
       "      <th>op_sett_1</th>\n",
       "      <th>op_sett_2</th>\n",
       "      <th>op_sett_3</th>\n",
       "      <th>measure_1</th>\n",
       "      <th>measure_2</th>\n",
       "      <th>measure_3</th>\n",
       "      <th>measure_4</th>\n",
       "      <th>measure_5</th>\n",
       "      <th>...</th>\n",
       "      <th>measure_12</th>\n",
       "      <th>measure_13</th>\n",
       "      <th>measure_14</th>\n",
       "      <th>measure_15</th>\n",
       "      <th>measure_16</th>\n",
       "      <th>measure_17</th>\n",
       "      <th>measure_18</th>\n",
       "      <th>measure_19</th>\n",
       "      <th>measure_20</th>\n",
       "      <th>measure_21</th>\n",
       "    </tr>\n",
       "  </thead>\n",
       "  <tbody>\n",
       "    <tr>\n",
       "      <th>count</th>\n",
       "      <td>20631.000000</td>\n",
       "      <td>20631.000000</td>\n",
       "      <td>20631.000000</td>\n",
       "      <td>20631.000000</td>\n",
       "      <td>20631.0</td>\n",
       "      <td>20631.00</td>\n",
       "      <td>20631.000000</td>\n",
       "      <td>20631.000000</td>\n",
       "      <td>20631.000000</td>\n",
       "      <td>2.063100e+04</td>\n",
       "      <td>...</td>\n",
       "      <td>20631.000000</td>\n",
       "      <td>20631.000000</td>\n",
       "      <td>20631.000000</td>\n",
       "      <td>20631.000000</td>\n",
       "      <td>2.063100e+04</td>\n",
       "      <td>20631.000000</td>\n",
       "      <td>20631.0</td>\n",
       "      <td>20631.0</td>\n",
       "      <td>20631.000000</td>\n",
       "      <td>20631.000000</td>\n",
       "    </tr>\n",
       "    <tr>\n",
       "      <th>mean</th>\n",
       "      <td>51.506568</td>\n",
       "      <td>108.807862</td>\n",
       "      <td>-0.000009</td>\n",
       "      <td>0.000002</td>\n",
       "      <td>100.0</td>\n",
       "      <td>518.67</td>\n",
       "      <td>642.680934</td>\n",
       "      <td>1590.523119</td>\n",
       "      <td>1408.933782</td>\n",
       "      <td>1.462000e+01</td>\n",
       "      <td>...</td>\n",
       "      <td>521.413470</td>\n",
       "      <td>2388.096152</td>\n",
       "      <td>8143.752722</td>\n",
       "      <td>84.421456</td>\n",
       "      <td>3.000000e-02</td>\n",
       "      <td>393.210654</td>\n",
       "      <td>2388.0</td>\n",
       "      <td>100.0</td>\n",
       "      <td>38.816271</td>\n",
       "      <td>232.897054</td>\n",
       "    </tr>\n",
       "    <tr>\n",
       "      <th>std</th>\n",
       "      <td>29.227633</td>\n",
       "      <td>68.880990</td>\n",
       "      <td>0.002187</td>\n",
       "      <td>0.000293</td>\n",
       "      <td>0.0</td>\n",
       "      <td>0.00</td>\n",
       "      <td>0.500053</td>\n",
       "      <td>6.131150</td>\n",
       "      <td>9.000605</td>\n",
       "      <td>1.776400e-15</td>\n",
       "      <td>...</td>\n",
       "      <td>0.737553</td>\n",
       "      <td>0.071919</td>\n",
       "      <td>19.076176</td>\n",
       "      <td>0.375050</td>\n",
       "      <td>1.387812e-17</td>\n",
       "      <td>1.548763</td>\n",
       "      <td>0.0</td>\n",
       "      <td>0.0</td>\n",
       "      <td>0.180746</td>\n",
       "      <td>1.082509</td>\n",
       "    </tr>\n",
       "    <tr>\n",
       "      <th>min</th>\n",
       "      <td>1.000000</td>\n",
       "      <td>1.000000</td>\n",
       "      <td>-0.008700</td>\n",
       "      <td>-0.000600</td>\n",
       "      <td>100.0</td>\n",
       "      <td>518.67</td>\n",
       "      <td>641.210000</td>\n",
       "      <td>1571.040000</td>\n",
       "      <td>1382.250000</td>\n",
       "      <td>1.462000e+01</td>\n",
       "      <td>...</td>\n",
       "      <td>518.690000</td>\n",
       "      <td>2387.880000</td>\n",
       "      <td>8099.940000</td>\n",
       "      <td>83.249000</td>\n",
       "      <td>3.000000e-02</td>\n",
       "      <td>388.000000</td>\n",
       "      <td>2388.0</td>\n",
       "      <td>100.0</td>\n",
       "      <td>38.140000</td>\n",
       "      <td>228.942000</td>\n",
       "    </tr>\n",
       "    <tr>\n",
       "      <th>25%</th>\n",
       "      <td>26.000000</td>\n",
       "      <td>52.000000</td>\n",
       "      <td>-0.001500</td>\n",
       "      <td>-0.000200</td>\n",
       "      <td>100.0</td>\n",
       "      <td>518.67</td>\n",
       "      <td>642.325000</td>\n",
       "      <td>1586.260000</td>\n",
       "      <td>1402.360000</td>\n",
       "      <td>1.462000e+01</td>\n",
       "      <td>...</td>\n",
       "      <td>520.960000</td>\n",
       "      <td>2388.040000</td>\n",
       "      <td>8133.245000</td>\n",
       "      <td>84.149000</td>\n",
       "      <td>3.000000e-02</td>\n",
       "      <td>392.000000</td>\n",
       "      <td>2388.0</td>\n",
       "      <td>100.0</td>\n",
       "      <td>38.700000</td>\n",
       "      <td>232.218000</td>\n",
       "    </tr>\n",
       "    <tr>\n",
       "      <th>50%</th>\n",
       "      <td>52.000000</td>\n",
       "      <td>104.000000</td>\n",
       "      <td>0.000000</td>\n",
       "      <td>0.000000</td>\n",
       "      <td>100.0</td>\n",
       "      <td>518.67</td>\n",
       "      <td>642.640000</td>\n",
       "      <td>1590.100000</td>\n",
       "      <td>1408.040000</td>\n",
       "      <td>1.462000e+01</td>\n",
       "      <td>...</td>\n",
       "      <td>521.480000</td>\n",
       "      <td>2388.090000</td>\n",
       "      <td>8140.540000</td>\n",
       "      <td>84.389000</td>\n",
       "      <td>3.000000e-02</td>\n",
       "      <td>393.000000</td>\n",
       "      <td>2388.0</td>\n",
       "      <td>100.0</td>\n",
       "      <td>38.830000</td>\n",
       "      <td>232.979000</td>\n",
       "    </tr>\n",
       "    <tr>\n",
       "      <th>75%</th>\n",
       "      <td>77.000000</td>\n",
       "      <td>156.000000</td>\n",
       "      <td>0.001500</td>\n",
       "      <td>0.000300</td>\n",
       "      <td>100.0</td>\n",
       "      <td>518.67</td>\n",
       "      <td>643.000000</td>\n",
       "      <td>1594.380000</td>\n",
       "      <td>1414.555000</td>\n",
       "      <td>1.462000e+01</td>\n",
       "      <td>...</td>\n",
       "      <td>521.950000</td>\n",
       "      <td>2388.140000</td>\n",
       "      <td>8148.310000</td>\n",
       "      <td>84.656000</td>\n",
       "      <td>3.000000e-02</td>\n",
       "      <td>394.000000</td>\n",
       "      <td>2388.0</td>\n",
       "      <td>100.0</td>\n",
       "      <td>38.950000</td>\n",
       "      <td>233.668000</td>\n",
       "    </tr>\n",
       "    <tr>\n",
       "      <th>max</th>\n",
       "      <td>100.000000</td>\n",
       "      <td>362.000000</td>\n",
       "      <td>0.008700</td>\n",
       "      <td>0.000600</td>\n",
       "      <td>100.0</td>\n",
       "      <td>518.67</td>\n",
       "      <td>644.530000</td>\n",
       "      <td>1616.910000</td>\n",
       "      <td>1441.490000</td>\n",
       "      <td>1.462000e+01</td>\n",
       "      <td>...</td>\n",
       "      <td>523.380000</td>\n",
       "      <td>2388.560000</td>\n",
       "      <td>8293.720000</td>\n",
       "      <td>85.848000</td>\n",
       "      <td>3.000000e-02</td>\n",
       "      <td>400.000000</td>\n",
       "      <td>2388.0</td>\n",
       "      <td>100.0</td>\n",
       "      <td>39.430000</td>\n",
       "      <td>236.184000</td>\n",
       "    </tr>\n",
       "  </tbody>\n",
       "</table>\n",
       "<p>8 rows × 26 columns</p>\n",
       "</div>"
      ],
      "text/plain": [
       "                 id    cycle_time     op_sett_1     op_sett_2  op_sett_3  \\\n",
       "count  20631.000000  20631.000000  20631.000000  20631.000000    20631.0   \n",
       "mean      51.506568    108.807862     -0.000009      0.000002      100.0   \n",
       "std       29.227633     68.880990      0.002187      0.000293        0.0   \n",
       "min        1.000000      1.000000     -0.008700     -0.000600      100.0   \n",
       "25%       26.000000     52.000000     -0.001500     -0.000200      100.0   \n",
       "50%       52.000000    104.000000      0.000000      0.000000      100.0   \n",
       "75%       77.000000    156.000000      0.001500      0.000300      100.0   \n",
       "max      100.000000    362.000000      0.008700      0.000600      100.0   \n",
       "\n",
       "       measure_1     measure_2     measure_3     measure_4     measure_5  ...  \\\n",
       "count   20631.00  20631.000000  20631.000000  20631.000000  2.063100e+04  ...   \n",
       "mean      518.67    642.680934   1590.523119   1408.933782  1.462000e+01  ...   \n",
       "std         0.00      0.500053      6.131150      9.000605  1.776400e-15  ...   \n",
       "min       518.67    641.210000   1571.040000   1382.250000  1.462000e+01  ...   \n",
       "25%       518.67    642.325000   1586.260000   1402.360000  1.462000e+01  ...   \n",
       "50%       518.67    642.640000   1590.100000   1408.040000  1.462000e+01  ...   \n",
       "75%       518.67    643.000000   1594.380000   1414.555000  1.462000e+01  ...   \n",
       "max       518.67    644.530000   1616.910000   1441.490000  1.462000e+01  ...   \n",
       "\n",
       "         measure_12    measure_13    measure_14    measure_15    measure_16  \\\n",
       "count  20631.000000  20631.000000  20631.000000  20631.000000  2.063100e+04   \n",
       "mean     521.413470   2388.096152   8143.752722     84.421456  3.000000e-02   \n",
       "std        0.737553      0.071919     19.076176      0.375050  1.387812e-17   \n",
       "min      518.690000   2387.880000   8099.940000     83.249000  3.000000e-02   \n",
       "25%      520.960000   2388.040000   8133.245000     84.149000  3.000000e-02   \n",
       "50%      521.480000   2388.090000   8140.540000     84.389000  3.000000e-02   \n",
       "75%      521.950000   2388.140000   8148.310000     84.656000  3.000000e-02   \n",
       "max      523.380000   2388.560000   8293.720000     85.848000  3.000000e-02   \n",
       "\n",
       "         measure_17  measure_18  measure_19    measure_20    measure_21  \n",
       "count  20631.000000     20631.0     20631.0  20631.000000  20631.000000  \n",
       "mean     393.210654      2388.0       100.0     38.816271    232.897054  \n",
       "std        1.548763         0.0         0.0      0.180746      1.082509  \n",
       "min      388.000000      2388.0       100.0     38.140000    228.942000  \n",
       "25%      392.000000      2388.0       100.0     38.700000    232.218000  \n",
       "50%      393.000000      2388.0       100.0     38.830000    232.979000  \n",
       "75%      394.000000      2388.0       100.0     38.950000    233.668000  \n",
       "max      400.000000      2388.0       100.0     39.430000    236.184000  \n",
       "\n",
       "[8 rows x 26 columns]"
      ]
     },
     "execution_count": 13,
     "metadata": {},
     "output_type": "execute_result"
    }
   ],
   "source": [
    "df_train.describe()"
   ]
  },
  {
   "cell_type": "markdown",
   "id": "rough-radiation",
   "metadata": {},
   "source": [
    "Visualizamos mediante histogramas las variables numéricas:"
   ]
  },
  {
   "cell_type": "code",
   "execution_count": 14,
   "id": "bulgarian-guarantee",
   "metadata": {},
   "outputs": [
    {
     "data": {
      "text/plain": [
       "array([[<AxesSubplot:title={'center':'id'}>,\n",
       "        <AxesSubplot:title={'center':'cycle_time'}>,\n",
       "        <AxesSubplot:title={'center':'op_sett_1'}>,\n",
       "        <AxesSubplot:title={'center':'op_sett_2'}>,\n",
       "        <AxesSubplot:title={'center':'op_sett_3'}>],\n",
       "       [<AxesSubplot:title={'center':'measure_1'}>,\n",
       "        <AxesSubplot:title={'center':'measure_2'}>,\n",
       "        <AxesSubplot:title={'center':'measure_3'}>,\n",
       "        <AxesSubplot:title={'center':'measure_4'}>,\n",
       "        <AxesSubplot:title={'center':'measure_5'}>],\n",
       "       [<AxesSubplot:title={'center':'measure_6'}>,\n",
       "        <AxesSubplot:title={'center':'measure_7'}>,\n",
       "        <AxesSubplot:title={'center':'measure_8'}>,\n",
       "        <AxesSubplot:title={'center':'measure_9'}>,\n",
       "        <AxesSubplot:title={'center':'measure_10'}>],\n",
       "       [<AxesSubplot:title={'center':'measure_11'}>,\n",
       "        <AxesSubplot:title={'center':'measure_12'}>,\n",
       "        <AxesSubplot:title={'center':'measure_13'}>,\n",
       "        <AxesSubplot:title={'center':'measure_14'}>,\n",
       "        <AxesSubplot:title={'center':'measure_15'}>],\n",
       "       [<AxesSubplot:title={'center':'measure_16'}>,\n",
       "        <AxesSubplot:title={'center':'measure_17'}>,\n",
       "        <AxesSubplot:title={'center':'measure_18'}>,\n",
       "        <AxesSubplot:title={'center':'measure_19'}>,\n",
       "        <AxesSubplot:title={'center':'measure_20'}>],\n",
       "       [<AxesSubplot:title={'center':'measure_21'}>, <AxesSubplot:>,\n",
       "        <AxesSubplot:>, <AxesSubplot:>, <AxesSubplot:>]], dtype=object)"
      ]
     },
     "execution_count": 14,
     "metadata": {},
     "output_type": "execute_result"
    },
    {
     "data": {
      "image/png": "[encoded data removed]",
      "text/plain": [
       "<Figure size 1152x504 with 30 Axes>"
      ]
     },
     "metadata": {
      "needs_background": "light"
     },
     "output_type": "display_data"
    }
   ],
   "source": [
    "%matplotlib inline\n",
    "plt.rcParams['figure.figsize'] = [16, 7]\n",
    "\n",
    "df_train.hist()"
   ]
  },
  {
   "cell_type": "code",
   "execution_count": 15,
   "id": "fuzzy-facing",
   "metadata": {},
   "outputs": [
    {
     "data": {
      "text/plain": [
       "<AxesSubplot:>"
      ]
     },
     "execution_count": 15,
     "metadata": {},
     "output_type": "execute_result"
    },
    {
     "data": {
      "image/png": "[encoded data removed]",
      "text/plain": [
       "<Figure size 864x432 with 1 Axes>"
      ]
     },
     "metadata": {
      "needs_background": "light"
     },
     "output_type": "display_data"
    }
   ],
   "source": [
    "plt.rcParams['figure.figsize'] = [12, 6]\n",
    "df_train.op_sett_3.hist()"
   ]
  },
  {
   "cell_type": "markdown",
   "id": "removed-relative",
   "metadata": {},
   "source": [
    "Eliminamos las columnas con valores constantes."
   ]
  },
  {
   "cell_type": "code",
   "execution_count": 16,
   "id": "surrounded-tokyo",
   "metadata": {},
   "outputs": [],
   "source": [
    "df_train.drop(columns=['op_sett_3',\n",
    "                       'measure_1',\n",
    "                       'measure_5',\n",
    "                       'measure_10',\n",
    "                       'measure_16',\n",
    "                       'measure_18',\n",
    "                       'measure_19'],inplace=True)"
   ]
  },
  {
   "cell_type": "markdown",
   "id": "charming-smooth",
   "metadata": {},
   "source": [
    "Añadimos la columna RUL al conjunto de entrenamiento. Esta agregación de característica se realiza porque los datos de esta columna los conocemos del ciclo máximo de cada id, pues, el ciclo maximo de cada id, se resta entre el ciclo actual. Es decir, el número de ciclos operativos después del último ciclo que el motor seguirá funcionando. "
   ]
  },
  {
   "cell_type": "code",
   "execution_count": 17,
   "id": "funny-guitar",
   "metadata": {},
   "outputs": [
    {
     "data": {
      "text/html": [
       "<div>\n",
       "<style scoped>\n",
       "    .dataframe tbody tr th:only-of-type {\n",
       "        vertical-align: middle;\n",
       "    }\n",
       "\n",
       "    .dataframe tbody tr th {\n",
       "        vertical-align: top;\n",
       "    }\n",
       "\n",
       "    .dataframe thead th {\n",
       "        text-align: right;\n",
       "    }\n",
       "</style>\n",
       "<table border=\"1\" class=\"dataframe\">\n",
       "  <thead>\n",
       "    <tr style=\"text-align: right;\">\n",
       "      <th></th>\n",
       "      <th>id</th>\n",
       "      <th>cycle_time</th>\n",
       "      <th>RUL</th>\n",
       "    </tr>\n",
       "  </thead>\n",
       "  <tbody>\n",
       "    <tr>\n",
       "      <th>0</th>\n",
       "      <td>1</td>\n",
       "      <td>1</td>\n",
       "      <td>191</td>\n",
       "    </tr>\n",
       "    <tr>\n",
       "      <th>1</th>\n",
       "      <td>1</td>\n",
       "      <td>2</td>\n",
       "      <td>190</td>\n",
       "    </tr>\n",
       "    <tr>\n",
       "      <th>2</th>\n",
       "      <td>1</td>\n",
       "      <td>3</td>\n",
       "      <td>189</td>\n",
       "    </tr>\n",
       "    <tr>\n",
       "      <th>3</th>\n",
       "      <td>1</td>\n",
       "      <td>4</td>\n",
       "      <td>188</td>\n",
       "    </tr>\n",
       "    <tr>\n",
       "      <th>4</th>\n",
       "      <td>1</td>\n",
       "      <td>5</td>\n",
       "      <td>187</td>\n",
       "    </tr>\n",
       "    <tr>\n",
       "      <th>...</th>\n",
       "      <td>...</td>\n",
       "      <td>...</td>\n",
       "      <td>...</td>\n",
       "    </tr>\n",
       "    <tr>\n",
       "      <th>188</th>\n",
       "      <td>1</td>\n",
       "      <td>189</td>\n",
       "      <td>3</td>\n",
       "    </tr>\n",
       "    <tr>\n",
       "      <th>189</th>\n",
       "      <td>1</td>\n",
       "      <td>190</td>\n",
       "      <td>2</td>\n",
       "    </tr>\n",
       "    <tr>\n",
       "      <th>190</th>\n",
       "      <td>1</td>\n",
       "      <td>191</td>\n",
       "      <td>1</td>\n",
       "    </tr>\n",
       "    <tr>\n",
       "      <th>191</th>\n",
       "      <td>1</td>\n",
       "      <td>192</td>\n",
       "      <td>0</td>\n",
       "    </tr>\n",
       "    <tr>\n",
       "      <th>192</th>\n",
       "      <td>2</td>\n",
       "      <td>1</td>\n",
       "      <td>286</td>\n",
       "    </tr>\n",
       "  </tbody>\n",
       "</table>\n",
       "<p>193 rows × 3 columns</p>\n",
       "</div>"
      ],
      "text/plain": [
       "     id  cycle_time  RUL\n",
       "0     1           1  191\n",
       "1     1           2  190\n",
       "2     1           3  189\n",
       "3     1           4  188\n",
       "4     1           5  187\n",
       "..   ..         ...  ...\n",
       "188   1         189    3\n",
       "189   1         190    2\n",
       "190   1         191    1\n",
       "191   1         192    0\n",
       "192   2           1  286\n",
       "\n",
       "[193 rows x 3 columns]"
      ]
     },
     "execution_count": 17,
     "metadata": {},
     "output_type": "execute_result"
    }
   ],
   "source": [
    "# solo mostramos la columna nueva, y las que intervienenn en la agregación de caracteristicas\n",
    "df = prepare_train_data(df_train)\n",
    "df.iloc[0:193, [0, 1, -1]]"
   ]
  },
  {
   "cell_type": "markdown",
   "id": "proud-columbia",
   "metadata": {},
   "source": [
    "Printamos la matrix de correlaciones de todas las variables."
   ]
  },
  {
   "cell_type": "code",
   "execution_count": 18,
   "id": "convenient-appearance",
   "metadata": {},
   "outputs": [
    {
     "data": {
      "image/png": "[encoded data removed]",
      "text/plain": [
       "<Figure size 1368x1368 with 2 Axes>"
      ]
     },
     "metadata": {
      "needs_background": "light"
     },
     "output_type": "display_data"
    }
   ],
   "source": [
    "plot_matrix_correlations(df.corr())"
   ]
  },
  {
   "cell_type": "code",
   "execution_count": 19,
   "id": "earlier-graphics",
   "metadata": {},
   "outputs": [
    {
     "name": "stdout",
     "output_type": "stream",
     "text": [
      "Dimesion del set de train (20631, 15)\n"
     ]
    }
   ],
   "source": [
    "id_col = pd.DataFrame(df[\"id\"])\n",
    "train_df = df.drop(columns = ['id',\n",
    "                              'op_sett_1',\n",
    "                              'op_sett_2',\n",
    "                              'measure_6', \n",
    "                              'measure_14'])\n",
    "\n",
    "print(f'Dimesion del set de train {train_df.shape}')"
   ]
  },
  {
   "cell_type": "code",
   "execution_count": 20,
   "id": "complex-stake",
   "metadata": {},
   "outputs": [
    {
     "data": {
      "text/plain": [
       "Index(['id', 'cycle_time', 'op_sett_1', 'op_sett_2', 'measure_2', 'measure_3',\n",
       "       'measure_4', 'measure_6', 'measure_7', 'measure_8', 'measure_9',\n",
       "       'measure_11', 'measure_12', 'measure_13', 'measure_14', 'measure_15',\n",
       "       'measure_17', 'measure_20', 'measure_21', 'RUL'],\n",
       "      dtype='object')"
      ]
     },
     "execution_count": 20,
     "metadata": {},
     "output_type": "execute_result"
    }
   ],
   "source": [
    "df.columns"
   ]
  },
  {
   "cell_type": "markdown",
   "id": "breathing-thanks",
   "metadata": {},
   "source": [
    "Como se ha eliminado columnas del set de entrenamiento, también eliminaremos las mismas en el set de pruebas."
   ]
  },
  {
   "cell_type": "code",
   "execution_count": 22,
   "id": "embedded-exchange",
   "metadata": {},
   "outputs": [],
   "source": [
    "df_test.drop(columns=['measure_18',\n",
    "                      'measure_19',\n",
    "                      'measure_5',\n",
    "                      'measure_1',\n",
    "                      'op_sett_3',\n",
    "                      'measure_16',\n",
    "                      'measure_10',\n",
    "                      'op_sett_1',\n",
    "                      'op_sett_2',\n",
    "                      'measure_6',\n",
    "                      'measure_14'\n",
    "                     ],inplace=True)"
   ]
  },
  {
   "cell_type": "markdown",
   "id": "solar-fetish",
   "metadata": {},
   "source": [
    "En el conjunto de test, agrupamos el id de motor y el máximo tiempo de ciclo (último valor del ciclo de cada id). De esta manera solo dejaremos los id (identificadores únicos) con su ciclo máximo."
   ]
  },
  {
   "cell_type": "code",
   "execution_count": 23,
   "id": "excessive-timer",
   "metadata": {},
   "outputs": [],
   "source": [
    "test_max = df_test.groupby('id')['cycle_time'].max().reset_index()\n",
    "test_max.columns = ['id','max']\n",
    "df_test = df_test.merge(test_max, on=['id'], how='left')\n",
    "test = df_test[df_test['cycle_time'] == df_test['max']].reset_index()\n"
   ]
  },
  {
   "cell_type": "markdown",
   "id": "agreed-occasions",
   "metadata": {},
   "source": [
    "Eliminamos columnas."
   ]
  },
  {
   "cell_type": "code",
   "execution_count": 24,
   "id": "narrow-palestinian",
   "metadata": {},
   "outputs": [],
   "source": [
    "test.drop(columns=['index',\n",
    "                   'max',\n",
    "                   'id'\n",
    "                   ], inplace=True)"
   ]
  },
  {
   "cell_type": "code",
   "execution_count": 25,
   "id": "federal-torture",
   "metadata": {},
   "outputs": [
    {
     "name": "stdout",
     "output_type": "stream",
     "text": [
      "Dimesion del set de test (100, 14)\n"
     ]
    },
    {
     "data": {
      "text/html": [
       "<div>\n",
       "<style scoped>\n",
       "    .dataframe tbody tr th:only-of-type {\n",
       "        vertical-align: middle;\n",
       "    }\n",
       "\n",
       "    .dataframe tbody tr th {\n",
       "        vertical-align: top;\n",
       "    }\n",
       "\n",
       "    .dataframe thead th {\n",
       "        text-align: right;\n",
       "    }\n",
       "</style>\n",
       "<table border=\"1\" class=\"dataframe\">\n",
       "  <thead>\n",
       "    <tr style=\"text-align: right;\">\n",
       "      <th></th>\n",
       "      <th>cycle_time</th>\n",
       "      <th>measure_2</th>\n",
       "      <th>measure_3</th>\n",
       "      <th>measure_21</th>\n",
       "    </tr>\n",
       "  </thead>\n",
       "  <tbody>\n",
       "    <tr>\n",
       "      <th>0</th>\n",
       "      <td>31</td>\n",
       "      <td>642.58</td>\n",
       "      <td>1581.22</td>\n",
       "      <td>233.552</td>\n",
       "    </tr>\n",
       "    <tr>\n",
       "      <th>1</th>\n",
       "      <td>49</td>\n",
       "      <td>642.55</td>\n",
       "      <td>1586.59</td>\n",
       "      <td>232.618</td>\n",
       "    </tr>\n",
       "    <tr>\n",
       "      <th>2</th>\n",
       "      <td>126</td>\n",
       "      <td>642.88</td>\n",
       "      <td>1589.75</td>\n",
       "      <td>232.740</td>\n",
       "    </tr>\n",
       "    <tr>\n",
       "      <th>3</th>\n",
       "      <td>106</td>\n",
       "      <td>642.78</td>\n",
       "      <td>1594.53</td>\n",
       "      <td>232.581</td>\n",
       "    </tr>\n",
       "    <tr>\n",
       "      <th>4</th>\n",
       "      <td>98</td>\n",
       "      <td>642.27</td>\n",
       "      <td>1589.94</td>\n",
       "      <td>234.117</td>\n",
       "    </tr>\n",
       "    <tr>\n",
       "      <th>5</th>\n",
       "      <td>105</td>\n",
       "      <td>643.05</td>\n",
       "      <td>1586.94</td>\n",
       "      <td>233.269</td>\n",
       "    </tr>\n",
       "    <tr>\n",
       "      <th>6</th>\n",
       "      <td>160</td>\n",
       "      <td>642.10</td>\n",
       "      <td>1589.59</td>\n",
       "      <td>232.763</td>\n",
       "    </tr>\n",
       "    <tr>\n",
       "      <th>7</th>\n",
       "      <td>166</td>\n",
       "      <td>642.59</td>\n",
       "      <td>1591.91</td>\n",
       "      <td>232.465</td>\n",
       "    </tr>\n",
       "    <tr>\n",
       "      <th>8</th>\n",
       "      <td>55</td>\n",
       "      <td>642.27</td>\n",
       "      <td>1593.61</td>\n",
       "      <td>233.515</td>\n",
       "    </tr>\n",
       "    <tr>\n",
       "      <th>9</th>\n",
       "      <td>192</td>\n",
       "      <td>643.00</td>\n",
       "      <td>1589.50</td>\n",
       "      <td>232.956</td>\n",
       "    </tr>\n",
       "  </tbody>\n",
       "</table>\n",
       "</div>"
      ],
      "text/plain": [
       "   cycle_time  measure_2  measure_3  measure_21\n",
       "0          31     642.58    1581.22     233.552\n",
       "1          49     642.55    1586.59     232.618\n",
       "2         126     642.88    1589.75     232.740\n",
       "3         106     642.78    1594.53     232.581\n",
       "4          98     642.27    1589.94     234.117\n",
       "5         105     643.05    1586.94     233.269\n",
       "6         160     642.10    1589.59     232.763\n",
       "7         166     642.59    1591.91     232.465\n",
       "8          55     642.27    1593.61     233.515\n",
       "9         192     643.00    1589.50     232.956"
      ]
     },
     "execution_count": 25,
     "metadata": {},
     "output_type": "execute_result"
    }
   ],
   "source": [
    "print(f'Dimesion del set de test {test.shape}')\n",
    "test.iloc[0:10, [0, 1, 2, -1]]"
   ]
  },
  {
   "cell_type": "markdown",
   "id": "automatic-affair",
   "metadata": {},
   "source": [
    "Preparamos los conjuntos de test en su forma correcta."
   ]
  },
  {
   "cell_type": "code",
   "execution_count": 26,
   "id": "silver-secondary",
   "metadata": {},
   "outputs": [],
   "source": [
    "# y_true, variable con los ground truth en forma numpy\n",
    "y_true = df_truth[0].to_numpy()\n",
    "\n",
    "# test en forma numpy\n",
    "X_001_test = test.to_numpy()"
   ]
  },
  {
   "cell_type": "code",
   "execution_count": 27,
   "id": "angry-hotel",
   "metadata": {},
   "outputs": [
    {
     "data": {
      "text/plain": [
       "array([[  31.   ,  642.58 , 1581.22 , ...,  393.   ,   38.81 ,  233.552],\n",
       "       [  49.   ,  642.55 , 1586.59 , ...,  391.   ,   38.81 ,  232.618],\n",
       "       [ 126.   ,  642.88 , 1589.75 , ...,  395.   ,   38.93 ,  232.74 ],\n",
       "       ...,\n",
       "       [ 121.   ,  642.68 , 1599.51 , ...,  394.   ,   38.76 ,  233.608],\n",
       "       [  97.   ,  642.   , 1585.03 , ...,  391.   ,   38.95 ,  233.595],\n",
       "       [ 198.   ,  642.95 , 1601.62 , ...,  396.   ,   38.7  ,  231.855]])"
      ]
     },
     "execution_count": 27,
     "metadata": {},
     "output_type": "execute_result"
    }
   ],
   "source": [
    "X_001_test"
   ]
  },
  {
   "cell_type": "code",
   "execution_count": 29,
   "id": "finite-equivalent",
   "metadata": {},
   "outputs": [
    {
     "name": "stdout",
     "output_type": "stream",
     "text": [
      " La dimensión de la numpy array de entrada es: 100\n"
     ]
    }
   ],
   "source": [
    "print(f' La dimensión de la numpy array de entrada es: {len(X_001_test)}')"
   ]
  },
  {
   "cell_type": "code",
   "execution_count": null,
   "id": "opposed-cleaners",
   "metadata": {},
   "outputs": [],
   "source": []
  },
  {
   "cell_type": "code",
   "execution_count": null,
   "id": "loaded-anaheim",
   "metadata": {},
   "outputs": [],
   "source": []
  }
 ],
 "metadata": {
  "kernelspec": {
   "display_name": "Python 3",
   "language": "python",
   "name": "python3"
  },
  "language_info": {
   "codemirror_mode": {
    "name": "ipython",
    "version": 3
   },
   "file_extension": ".py",
   "mimetype": "text/x-python",
   "name": "python",
   "nbconvert_exporter": "python",
   "pygments_lexer": "ipython3",
   "version": "3.8.8"
  }
 },
 "nbformat": 4,
 "nbformat_minor": 5
}
